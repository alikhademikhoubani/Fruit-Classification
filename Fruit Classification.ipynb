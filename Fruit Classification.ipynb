{
 "cells": [
  {
   "cell_type": "code",
   "execution_count": 35,
   "id": "2084a35e-821c-4e98-8478-9b7c2239be65",
   "metadata": {},
   "outputs": [],
   "source": [
    "import tensorflow as tf\n",
    "from tensorflow import keras\n",
    "from tensorflow.keras import layers\n",
    "from tensorflow.keras.models import Sequential\n",
    "import os\n",
    "import numpy as np\n",
    "import seaborn as sns\n",
    "import matplotlib.pyplot as plt\n",
    "from sklearn.metrics import classification_report,confusion_matrix"
   ]
  },
  {
   "cell_type": "code",
   "execution_count": 2,
   "id": "d225eacc-7e86-493c-9eda-52acf80fa689",
   "metadata": {},
   "outputs": [],
   "source": [
    "def get_label(file_path):\n",
    "    return tf.strings.split(file_path,os.path.sep)[-2]"
   ]
  },
  {
   "cell_type": "code",
   "execution_count": 3,
   "id": "9e86551a-9178-41ae-845d-4e2fc1b4717d",
   "metadata": {},
   "outputs": [],
   "source": [
    "def image_process(file_path):\n",
    "    label=get_label(file_path)\n",
    "    img=tf.io.read_file(file_path)\n",
    "    img=tf.image.decode_jpeg(img)\n",
    "    img=tf.image.resize(img,[180,180])\n",
    "    img=img/255\n",
    "    return label,img"
   ]
  },
  {
   "cell_type": "code",
   "execution_count": 4,
   "id": "19f83ef0-e22c-4623-a620-937db517b9eb",
   "metadata": {},
   "outputs": [],
   "source": [
    "dataset=tf.data.Dataset.list_files('Desktop/Fruits Images/*/*',shuffle=False).shuffle(500).map(image_process)"
   ]
  },
  {
   "cell_type": "code",
   "execution_count": 5,
   "id": "1f710cb3-95fe-487f-b8e6-d0c985f2609f",
   "metadata": {},
   "outputs": [
    {
     "name": "stdout",
     "output_type": "stream",
     "text": [
      "Label is:  b'fresh_peaches'\n",
      "Img is:  tf.Tensor(\n",
      "[[[1.        1.        1.       ]\n",
      "  [1.        1.        1.       ]\n",
      "  [1.        1.        1.       ]\n",
      "  ...\n",
      "  [1.        1.        1.       ]\n",
      "  [1.        1.        1.       ]\n",
      "  [1.        1.        1.       ]]\n",
      "\n",
      " [[1.        1.        1.       ]\n",
      "  [1.        1.        1.       ]\n",
      "  [1.        1.        1.       ]\n",
      "  ...\n",
      "  [1.        1.        1.       ]\n",
      "  [1.        1.        1.       ]\n",
      "  [1.        1.        1.       ]]\n",
      "\n",
      " [[1.        1.        1.       ]\n",
      "  [1.        1.        1.       ]\n",
      "  [0.9982571 0.9982571 0.9982571]\n",
      "  ...\n",
      "  [1.        1.        1.       ]\n",
      "  [1.        1.        1.       ]\n",
      "  [1.        1.        1.       ]]\n",
      "\n",
      " ...\n",
      "\n",
      " [[0.9860562 0.9860562 0.9860562]\n",
      "  [0.9816988 0.9816988 0.9816988]\n",
      "  [0.9991285 0.9991285 0.9991285]\n",
      "  ...\n",
      "  [1.        1.        1.       ]\n",
      "  [1.        1.        1.       ]\n",
      "  [1.        1.        1.       ]]\n",
      "\n",
      " [[1.        1.        1.       ]\n",
      "  [1.        1.        1.       ]\n",
      "  [1.        1.        1.       ]\n",
      "  ...\n",
      "  [1.        1.        1.       ]\n",
      "  [1.        1.        1.       ]\n",
      "  [1.        1.        1.       ]]\n",
      "\n",
      " [[1.        1.        1.       ]\n",
      "  [1.        1.        1.       ]\n",
      "  [1.        1.        1.       ]\n",
      "  ...\n",
      "  [1.        1.        1.       ]\n",
      "  [1.        1.        1.       ]\n",
      "  [1.        1.        1.       ]]], shape=(180, 180, 3), dtype=float32)\n",
      "Label is:  b'fresh_pomegranates'\n",
      "Img is:  tf.Tensor(\n",
      "[[[1. 1. 1.]\n",
      "  [1. 1. 1.]\n",
      "  [1. 1. 1.]\n",
      "  ...\n",
      "  [1. 1. 1.]\n",
      "  [1. 1. 1.]\n",
      "  [1. 1. 1.]]\n",
      "\n",
      " [[1. 1. 1.]\n",
      "  [1. 1. 1.]\n",
      "  [1. 1. 1.]\n",
      "  ...\n",
      "  [1. 1. 1.]\n",
      "  [1. 1. 1.]\n",
      "  [1. 1. 1.]]\n",
      "\n",
      " [[1. 1. 1.]\n",
      "  [1. 1. 1.]\n",
      "  [1. 1. 1.]\n",
      "  ...\n",
      "  [1. 1. 1.]\n",
      "  [1. 1. 1.]\n",
      "  [1. 1. 1.]]\n",
      "\n",
      " ...\n",
      "\n",
      " [[1. 1. 1.]\n",
      "  [1. 1. 1.]\n",
      "  [1. 1. 1.]\n",
      "  ...\n",
      "  [1. 1. 1.]\n",
      "  [1. 1. 1.]\n",
      "  [1. 1. 1.]]\n",
      "\n",
      " [[1. 1. 1.]\n",
      "  [1. 1. 1.]\n",
      "  [1. 1. 1.]\n",
      "  ...\n",
      "  [1. 1. 1.]\n",
      "  [1. 1. 1.]\n",
      "  [1. 1. 1.]]\n",
      "\n",
      " [[1. 1. 1.]\n",
      "  [1. 1. 1.]\n",
      "  [1. 1. 1.]\n",
      "  ...\n",
      "  [1. 1. 1.]\n",
      "  [1. 1. 1.]\n",
      "  [1. 1. 1.]]], shape=(180, 180, 3), dtype=float32)\n",
      "Label is:  b'fresh_pomegranates'\n",
      "Img is:  tf.Tensor(\n",
      "[[[1. 1. 1.]\n",
      "  [1. 1. 1.]\n",
      "  [1. 1. 1.]\n",
      "  ...\n",
      "  [1. 1. 1.]\n",
      "  [1. 1. 1.]\n",
      "  [1. 1. 1.]]\n",
      "\n",
      " [[1. 1. 1.]\n",
      "  [1. 1. 1.]\n",
      "  [1. 1. 1.]\n",
      "  ...\n",
      "  [1. 1. 1.]\n",
      "  [1. 1. 1.]\n",
      "  [1. 1. 1.]]\n",
      "\n",
      " [[1. 1. 1.]\n",
      "  [1. 1. 1.]\n",
      "  [1. 1. 1.]\n",
      "  ...\n",
      "  [1. 1. 1.]\n",
      "  [1. 1. 1.]\n",
      "  [1. 1. 1.]]\n",
      "\n",
      " ...\n",
      "\n",
      " [[1. 1. 1.]\n",
      "  [1. 1. 1.]\n",
      "  [1. 1. 1.]\n",
      "  ...\n",
      "  [1. 1. 1.]\n",
      "  [1. 1. 1.]\n",
      "  [1. 1. 1.]]\n",
      "\n",
      " [[1. 1. 1.]\n",
      "  [1. 1. 1.]\n",
      "  [1. 1. 1.]\n",
      "  ...\n",
      "  [1. 1. 1.]\n",
      "  [1. 1. 1.]\n",
      "  [1. 1. 1.]]\n",
      "\n",
      " [[1. 1. 1.]\n",
      "  [1. 1. 1.]\n",
      "  [1. 1. 1.]\n",
      "  ...\n",
      "  [1. 1. 1.]\n",
      "  [1. 1. 1.]\n",
      "  [1. 1. 1.]]], shape=(180, 180, 3), dtype=float32)\n"
     ]
    }
   ],
   "source": [
    "for label,img in dataset.take(3):\n",
    "    print('Label is: ',label.numpy())\n",
    "    print('Img is: ',img)"
   ]
  },
  {
   "cell_type": "code",
   "execution_count": 6,
   "id": "0f3cf83c-722e-4344-9b7b-2d6f4718160b",
   "metadata": {},
   "outputs": [
    {
     "data": {
      "text/plain": [
       "1655"
      ]
     },
     "execution_count": 6,
     "metadata": {},
     "output_type": "execute_result"
    }
   ],
   "source": [
    "len(dataset)"
   ]
  },
  {
   "cell_type": "code",
   "execution_count": 7,
   "id": "0dcabc9a-9406-4cec-9cb5-ada5e525cd35",
   "metadata": {},
   "outputs": [],
   "source": [
    "image_count=len(dataset)\n",
    "train_size=int(image_count*0.8)\n",
    "train_dataset=dataset.take(train_size)\n",
    "test_dataset=dataset.skip(train_size)"
   ]
  },
  {
   "cell_type": "code",
   "execution_count": 8,
   "id": "2603b3fc-acfd-4555-a5b3-851dfd2d9ba3",
   "metadata": {},
   "outputs": [
    {
     "data": {
      "text/plain": [
       "1324"
      ]
     },
     "execution_count": 8,
     "metadata": {},
     "output_type": "execute_result"
    }
   ],
   "source": [
    "len(train_dataset)"
   ]
  },
  {
   "cell_type": "code",
   "execution_count": 9,
   "id": "a65164f4-095a-4358-b488-9bf9ad231745",
   "metadata": {},
   "outputs": [
    {
     "data": {
      "text/plain": [
       "331"
      ]
     },
     "execution_count": 9,
     "metadata": {},
     "output_type": "execute_result"
    }
   ],
   "source": [
    "len(test_dataset)"
   ]
  },
  {
   "cell_type": "code",
   "execution_count": 10,
   "id": "bfc52545-435f-4b0a-9e12-d74925e6f1ec",
   "metadata": {},
   "outputs": [],
   "source": [
    "X_train,X_test,y_train,y_test=[],[],[],[]\n"
   ]
  },
  {
   "cell_type": "code",
   "execution_count": 11,
   "id": "103d057a-72b1-4416-b11b-c31a951a6bb3",
   "metadata": {},
   "outputs": [],
   "source": [
    "def num_label(data,X,y):\n",
    "    for label,img in data:\n",
    "        if label=='fresh_peaches':\n",
    "            y.append(0)\n",
    "        elif label=='fresh_pomegranates':\n",
    "            y.append(1)\n",
    "        elif label=='fresh_strawberries':\n",
    "            y.append(2)\n",
    "        elif label=='rotten_peaches':\n",
    "            y.append(3)\n",
    "        elif label=='rotten_pomegranates':\n",
    "            y.append(4)\n",
    "        else:\n",
    "            y.append(5)\n",
    "        X.append(img)"
   ]
  },
  {
   "cell_type": "code",
   "execution_count": 12,
   "id": "8a06aa35-3389-480e-8561-7dc198913a88",
   "metadata": {},
   "outputs": [],
   "source": [
    "num_label(train_dataset,X_train,y_train)"
   ]
  },
  {
   "cell_type": "code",
   "execution_count": 13,
   "id": "f9c2506b-ab01-4a79-a09c-faef981716ce",
   "metadata": {},
   "outputs": [
    {
     "data": {
      "text/plain": [
       "[0, 1, 1, 1, 1, 1, 0, 0, 1, 0]"
      ]
     },
     "execution_count": 13,
     "metadata": {},
     "output_type": "execute_result"
    }
   ],
   "source": [
    "y_train[:10]"
   ]
  },
  {
   "cell_type": "code",
   "execution_count": 14,
   "id": "97f96b52-8ed5-407d-a63d-2965b852f5b2",
   "metadata": {},
   "outputs": [],
   "source": [
    "num_label(test_dataset,X_test,y_test)"
   ]
  },
  {
   "cell_type": "code",
   "execution_count": 15,
   "id": "44352cbc-21e9-4d48-86d4-43b8a03d84b6",
   "metadata": {},
   "outputs": [
    {
     "data": {
      "text/plain": [
       "[5, 4, 5, 3, 3, 5, 4, 5, 5, 5]"
      ]
     },
     "execution_count": 15,
     "metadata": {},
     "output_type": "execute_result"
    }
   ],
   "source": [
    "y_test[:10]"
   ]
  },
  {
   "cell_type": "code",
   "execution_count": 16,
   "id": "73db6297-2d67-4e9b-a511-982b975c6392",
   "metadata": {},
   "outputs": [
    {
     "data": {
      "text/plain": [
       "<tf.Tensor: shape=(180, 180, 3), dtype=float32, numpy=\n",
       "array([[[1., 1., 1.],\n",
       "        [1., 1., 1.],\n",
       "        [1., 1., 1.],\n",
       "        ...,\n",
       "        [1., 1., 1.],\n",
       "        [1., 1., 1.],\n",
       "        [1., 1., 1.]],\n",
       "\n",
       "       [[1., 1., 1.],\n",
       "        [1., 1., 1.],\n",
       "        [1., 1., 1.],\n",
       "        ...,\n",
       "        [1., 1., 1.],\n",
       "        [1., 1., 1.],\n",
       "        [1., 1., 1.]],\n",
       "\n",
       "       [[1., 1., 1.],\n",
       "        [1., 1., 1.],\n",
       "        [1., 1., 1.],\n",
       "        ...,\n",
       "        [1., 1., 1.],\n",
       "        [1., 1., 1.],\n",
       "        [1., 1., 1.]],\n",
       "\n",
       "       ...,\n",
       "\n",
       "       [[1., 1., 1.],\n",
       "        [1., 1., 1.],\n",
       "        [1., 1., 1.],\n",
       "        ...,\n",
       "        [1., 1., 1.],\n",
       "        [1., 1., 1.],\n",
       "        [1., 1., 1.]],\n",
       "\n",
       "       [[1., 1., 1.],\n",
       "        [1., 1., 1.],\n",
       "        [1., 1., 1.],\n",
       "        ...,\n",
       "        [1., 1., 1.],\n",
       "        [1., 1., 1.],\n",
       "        [1., 1., 1.]],\n",
       "\n",
       "       [[1., 1., 1.],\n",
       "        [1., 1., 1.],\n",
       "        [1., 1., 1.],\n",
       "        ...,\n",
       "        [1., 1., 1.],\n",
       "        [1., 1., 1.],\n",
       "        [1., 1., 1.]]], dtype=float32)>"
      ]
     },
     "execution_count": 16,
     "metadata": {},
     "output_type": "execute_result"
    }
   ],
   "source": [
    "X_train[0]"
   ]
  },
  {
   "cell_type": "code",
   "execution_count": 17,
   "id": "10197a0e-77a0-4045-9ec5-70e27e202b44",
   "metadata": {},
   "outputs": [
    {
     "data": {
      "text/plain": [
       "<tf.Tensor: shape=(180, 180, 3), dtype=float32, numpy=\n",
       "array([[[1., 1., 1.],\n",
       "        [1., 1., 1.],\n",
       "        [1., 1., 1.],\n",
       "        ...,\n",
       "        [1., 1., 1.],\n",
       "        [1., 1., 1.],\n",
       "        [1., 1., 1.]],\n",
       "\n",
       "       [[1., 1., 1.],\n",
       "        [1., 1., 1.],\n",
       "        [1., 1., 1.],\n",
       "        ...,\n",
       "        [1., 1., 1.],\n",
       "        [1., 1., 1.],\n",
       "        [1., 1., 1.]],\n",
       "\n",
       "       [[1., 1., 1.],\n",
       "        [1., 1., 1.],\n",
       "        [1., 1., 1.],\n",
       "        ...,\n",
       "        [1., 1., 1.],\n",
       "        [1., 1., 1.],\n",
       "        [1., 1., 1.]],\n",
       "\n",
       "       ...,\n",
       "\n",
       "       [[1., 1., 1.],\n",
       "        [1., 1., 1.],\n",
       "        [1., 1., 1.],\n",
       "        ...,\n",
       "        [1., 1., 1.],\n",
       "        [1., 1., 1.],\n",
       "        [1., 1., 1.]],\n",
       "\n",
       "       [[1., 1., 1.],\n",
       "        [1., 1., 1.],\n",
       "        [1., 1., 1.],\n",
       "        ...,\n",
       "        [1., 1., 1.],\n",
       "        [1., 1., 1.],\n",
       "        [1., 1., 1.]],\n",
       "\n",
       "       [[1., 1., 1.],\n",
       "        [1., 1., 1.],\n",
       "        [1., 1., 1.],\n",
       "        ...,\n",
       "        [1., 1., 1.],\n",
       "        [1., 1., 1.],\n",
       "        [1., 1., 1.]]], dtype=float32)>"
      ]
     },
     "execution_count": 17,
     "metadata": {},
     "output_type": "execute_result"
    }
   ],
   "source": [
    "X_test[0]"
   ]
  },
  {
   "cell_type": "code",
   "execution_count": 18,
   "id": "a25e9f11-f0ca-4d0e-ae60-92ac5c0b07ce",
   "metadata": {},
   "outputs": [],
   "source": [
    "d=X_test[0].numpy()"
   ]
  },
  {
   "cell_type": "code",
   "execution_count": 19,
   "id": "2cb72257-7ee0-4a6e-8056-a7d62b6b810f",
   "metadata": {},
   "outputs": [
    {
     "data": {
      "text/plain": [
       "array([[[1., 1., 1.],\n",
       "        [1., 1., 1.],\n",
       "        [1., 1., 1.],\n",
       "        ...,\n",
       "        [1., 1., 1.],\n",
       "        [1., 1., 1.],\n",
       "        [1., 1., 1.]],\n",
       "\n",
       "       [[1., 1., 1.],\n",
       "        [1., 1., 1.],\n",
       "        [1., 1., 1.],\n",
       "        ...,\n",
       "        [1., 1., 1.],\n",
       "        [1., 1., 1.],\n",
       "        [1., 1., 1.]],\n",
       "\n",
       "       [[1., 1., 1.],\n",
       "        [1., 1., 1.],\n",
       "        [1., 1., 1.],\n",
       "        ...,\n",
       "        [1., 1., 1.],\n",
       "        [1., 1., 1.],\n",
       "        [1., 1., 1.]],\n",
       "\n",
       "       ...,\n",
       "\n",
       "       [[1., 1., 1.],\n",
       "        [1., 1., 1.],\n",
       "        [1., 1., 1.],\n",
       "        ...,\n",
       "        [1., 1., 1.],\n",
       "        [1., 1., 1.],\n",
       "        [1., 1., 1.]],\n",
       "\n",
       "       [[1., 1., 1.],\n",
       "        [1., 1., 1.],\n",
       "        [1., 1., 1.],\n",
       "        ...,\n",
       "        [1., 1., 1.],\n",
       "        [1., 1., 1.],\n",
       "        [1., 1., 1.]],\n",
       "\n",
       "       [[1., 1., 1.],\n",
       "        [1., 1., 1.],\n",
       "        [1., 1., 1.],\n",
       "        ...,\n",
       "        [1., 1., 1.],\n",
       "        [1., 1., 1.],\n",
       "        [1., 1., 1.]]], dtype=float32)"
      ]
     },
     "execution_count": 19,
     "metadata": {},
     "output_type": "execute_result"
    }
   ],
   "source": [
    "d"
   ]
  },
  {
   "cell_type": "code",
   "execution_count": 20,
   "id": "341bd49a-cc21-4c6b-b819-a56655fe4a95",
   "metadata": {},
   "outputs": [],
   "source": [
    "data_augmentation=Sequential([\n",
    "    layers.experimental.preprocessing.RandomFlip('horizontal',input_shape=(180,180,3)),\n",
    "    layers.experimental.preprocessing.RandomRotation(0.4),\n",
    "    layers.experimental.preprocessing.RandomZoom(0.4),\n",
    "    layers.experimental.preprocessing.RandomContrast(0.4)\n",
    "])"
   ]
  },
  {
   "cell_type": "code",
   "execution_count": 21,
   "id": "3c1e6a1d-9e40-494c-856f-3c5adcf53341",
   "metadata": {},
   "outputs": [],
   "source": [
    "model=Sequential([\n",
    "    data_augmentation,\n",
    "    layers.Conv2D(70,3,padding='same',activation='relu'),\n",
    "    layers.MaxPooling2D(),\n",
    "    layers.Conv2D(55,3,padding='same',activation='relu'),\n",
    "    layers.MaxPooling2D(),\n",
    "    layers.Conv2D(35,3,padding='same',activation='relu'),\n",
    "    layers.MaxPooling2D(),\n",
    "    layers.Conv2D(20,3,padding='same',activation='relu'),\n",
    "    layers.MaxPooling2D(),\n",
    "    layers.Flatten(),\n",
    "    layers.Dense(700,activation='relu'),\n",
    "    layers.Dense(500,activation='relu'),\n",
    "    layers.Dense(300,activation='relu'),\n",
    "    layers.Dense(6,activation='softmax')\n",
    "])"
   ]
  },
  {
   "cell_type": "code",
   "execution_count": 22,
   "id": "95d61254-6063-4cce-9735-2af68d6b0638",
   "metadata": {},
   "outputs": [],
   "source": [
    "model.compile(\n",
    "    optimizer='adam',\n",
    "    loss='sparse_categorical_crossentropy',\n",
    "    metrics=['accuracy']\n",
    ")"
   ]
  },
  {
   "cell_type": "code",
   "execution_count": 23,
   "id": "ac2daa3c-46c0-4bb6-ae82-73d57646e137",
   "metadata": {},
   "outputs": [],
   "source": [
    "X_train=np.array(X_train)\n",
    "X_test=np.array(X_test)\n",
    "y_train=np.array(y_train)\n",
    "y_test=np.array(y_test)"
   ]
  },
  {
   "cell_type": "code",
   "execution_count": 24,
   "id": "5f9cb394-6950-4acb-b561-c1ed8319d5c6",
   "metadata": {},
   "outputs": [
    {
     "name": "stdout",
     "output_type": "stream",
     "text": [
      "Epoch 1/120\n",
      "42/42 [==============================] - 107s 2s/step - loss: 1.7557 - accuracy: 0.2137\n",
      "Epoch 2/120\n",
      "42/42 [==============================] - 94s 2s/step - loss: 1.5375 - accuracy: 0.3437\n",
      "Epoch 3/120\n",
      "42/42 [==============================] - 94s 2s/step - loss: 1.4008 - accuracy: 0.4456\n",
      "Epoch 4/120\n",
      "42/42 [==============================] - 94s 2s/step - loss: 1.2514 - accuracy: 0.5098\n",
      "Epoch 5/120\n",
      "42/42 [==============================] - 94s 2s/step - loss: 1.2285 - accuracy: 0.5174\n",
      "Epoch 6/120\n",
      "42/42 [==============================] - 94s 2s/step - loss: 1.1165 - accuracy: 0.5702\n",
      "Epoch 7/120\n",
      "42/42 [==============================] - 96s 2s/step - loss: 1.1478 - accuracy: 0.5604\n",
      "Epoch 8/120\n",
      "42/42 [==============================] - 100s 2s/step - loss: 1.0835 - accuracy: 0.5937\n",
      "Epoch 9/120\n",
      "42/42 [==============================] - 93s 2s/step - loss: 0.9926 - accuracy: 0.6412\n",
      "Epoch 10/120\n",
      "42/42 [==============================] - 94s 2s/step - loss: 0.9334 - accuracy: 0.6601\n",
      "Epoch 11/120\n",
      "42/42 [==============================] - 102s 2s/step - loss: 0.9060 - accuracy: 0.6699\n",
      "Epoch 12/120\n",
      "42/42 [==============================] - 106s 3s/step - loss: 0.9171 - accuracy: 0.6586\n",
      "Epoch 13/120\n",
      "42/42 [==============================] - 96s 2s/step - loss: 0.8519 - accuracy: 0.6881\n",
      "Epoch 14/120\n",
      "42/42 [==============================] - 97s 2s/step - loss: 0.7943 - accuracy: 0.7160\n",
      "Epoch 15/120\n",
      "42/42 [==============================] - 96s 2s/step - loss: 0.7501 - accuracy: 0.7221\n",
      "Epoch 16/120\n",
      "42/42 [==============================] - 103s 2s/step - loss: 0.8145 - accuracy: 0.7009\n",
      "Epoch 17/120\n",
      "42/42 [==============================] - 96s 2s/step - loss: 0.7452 - accuracy: 0.7281\n",
      "Epoch 18/120\n",
      "42/42 [==============================] - 97s 2s/step - loss: 0.6938 - accuracy: 0.7447\n",
      "Epoch 19/120\n",
      "42/42 [==============================] - 97s 2s/step - loss: 0.7218 - accuracy: 0.7311\n",
      "Epoch 20/120\n",
      "42/42 [==============================] - 97s 2s/step - loss: 0.7394 - accuracy: 0.7258\n",
      "Epoch 21/120\n",
      "42/42 [==============================] - 96s 2s/step - loss: 0.6816 - accuracy: 0.7538\n",
      "Epoch 22/120\n",
      "42/42 [==============================] - 99s 2s/step - loss: 0.6865 - accuracy: 0.7560\n",
      "Epoch 23/120\n",
      "42/42 [==============================] - 97s 2s/step - loss: 0.6931 - accuracy: 0.7530\n",
      "Epoch 24/120\n",
      "42/42 [==============================] - 95s 2s/step - loss: 0.6240 - accuracy: 0.7576\n",
      "Epoch 25/120\n",
      "42/42 [==============================] - 99s 2s/step - loss: 0.6695 - accuracy: 0.7402\n",
      "Epoch 26/120\n",
      "42/42 [==============================] - 96s 2s/step - loss: 0.6208 - accuracy: 0.7734\n",
      "Epoch 27/120\n",
      "42/42 [==============================] - 97s 2s/step - loss: 0.5895 - accuracy: 0.7757\n",
      "Epoch 28/120\n",
      "42/42 [==============================] - 97s 2s/step - loss: 0.5919 - accuracy: 0.7787\n",
      "Epoch 29/120\n",
      "42/42 [==============================] - 96s 2s/step - loss: 0.5854 - accuracy: 0.7817\n",
      "Epoch 30/120\n",
      "42/42 [==============================] - 96s 2s/step - loss: 0.5838 - accuracy: 0.7885\n",
      "Epoch 31/120\n",
      "42/42 [==============================] - 96s 2s/step - loss: 0.6153 - accuracy: 0.7674\n",
      "Epoch 32/120\n",
      "42/42 [==============================] - 91s 2s/step - loss: 0.5656 - accuracy: 0.7772\n",
      "Epoch 33/120\n",
      "42/42 [==============================] - 92s 2s/step - loss: 0.5568 - accuracy: 0.7772\n",
      "Epoch 34/120\n",
      "42/42 [==============================] - 93s 2s/step - loss: 0.5336 - accuracy: 0.8059\n",
      "Epoch 35/120\n",
      "42/42 [==============================] - 91s 2s/step - loss: 0.6304 - accuracy: 0.7681\n",
      "Epoch 36/120\n",
      "42/42 [==============================] - 91s 2s/step - loss: 0.6510 - accuracy: 0.7644\n",
      "Epoch 37/120\n",
      "42/42 [==============================] - 91s 2s/step - loss: 0.5795 - accuracy: 0.7968\n",
      "Epoch 38/120\n",
      "42/42 [==============================] - 90s 2s/step - loss: 0.5274 - accuracy: 0.7968\n",
      "Epoch 39/120\n",
      "42/42 [==============================] - 88s 2s/step - loss: 0.5589 - accuracy: 0.7961\n",
      "Epoch 40/120\n",
      "42/42 [==============================] - 90s 2s/step - loss: 0.5268 - accuracy: 0.7991\n",
      "Epoch 41/120\n",
      "42/42 [==============================] - 95s 2s/step - loss: 0.5406 - accuracy: 0.7915\n",
      "Epoch 42/120\n",
      "42/42 [==============================] - 97s 2s/step - loss: 0.5570 - accuracy: 0.7810\n",
      "Epoch 43/120\n",
      "42/42 [==============================] - 96s 2s/step - loss: 0.4918 - accuracy: 0.8255\n",
      "Epoch 44/120\n",
      "42/42 [==============================] - 95s 2s/step - loss: 0.5169 - accuracy: 0.8006\n",
      "Epoch 45/120\n",
      "42/42 [==============================] - 93s 2s/step - loss: 0.4866 - accuracy: 0.8218\n",
      "Epoch 46/120\n",
      "42/42 [==============================] - 96s 2s/step - loss: 0.5058 - accuracy: 0.8074\n",
      "Epoch 47/120\n",
      "42/42 [==============================] - 94s 2s/step - loss: 0.4819 - accuracy: 0.8150\n",
      "Epoch 48/120\n",
      "42/42 [==============================] - 97s 2s/step - loss: 0.4735 - accuracy: 0.8218\n",
      "Epoch 49/120\n",
      "42/42 [==============================] - 96s 2s/step - loss: 0.4456 - accuracy: 0.8278\n",
      "Epoch 50/120\n",
      "42/42 [==============================] - 97s 2s/step - loss: 0.4848 - accuracy: 0.8225\n",
      "Epoch 51/120\n",
      "42/42 [==============================] - 95s 2s/step - loss: 0.4690 - accuracy: 0.8202\n",
      "Epoch 52/120\n",
      "42/42 [==============================] - 96s 2s/step - loss: 0.4308 - accuracy: 0.8399\n",
      "Epoch 53/120\n",
      "42/42 [==============================] - 97s 2s/step - loss: 0.4760 - accuracy: 0.8210\n",
      "Epoch 54/120\n",
      "42/42 [==============================] - 97s 2s/step - loss: 0.4274 - accuracy: 0.8255\n",
      "Epoch 55/120\n",
      "42/42 [==============================] - 98s 2s/step - loss: 0.4355 - accuracy: 0.8376\n",
      "Epoch 56/120\n",
      "42/42 [==============================] - 101s 2s/step - loss: 0.4602 - accuracy: 0.8233\n",
      "Epoch 57/120\n",
      "42/42 [==============================] - 101s 2s/step - loss: 0.4028 - accuracy: 0.8452\n",
      "Epoch 58/120\n",
      "42/42 [==============================] - 95s 2s/step - loss: 0.5094 - accuracy: 0.7976\n",
      "Epoch 59/120\n",
      "42/42 [==============================] - 95s 2s/step - loss: 0.4390 - accuracy: 0.8437\n",
      "Epoch 60/120\n",
      "42/42 [==============================] - 95s 2s/step - loss: 0.4169 - accuracy: 0.8353\n",
      "Epoch 61/120\n",
      "42/42 [==============================] - 94s 2s/step - loss: 0.3791 - accuracy: 0.8588\n",
      "Epoch 62/120\n",
      "42/42 [==============================] - 90s 2s/step - loss: 0.4031 - accuracy: 0.8452\n",
      "Epoch 63/120\n",
      "42/42 [==============================] - 91s 2s/step - loss: 0.4089 - accuracy: 0.8505\n",
      "Epoch 64/120\n",
      "42/42 [==============================] - 95s 2s/step - loss: 0.4256 - accuracy: 0.8437\n",
      "Epoch 65/120\n",
      "42/42 [==============================] - 94s 2s/step - loss: 0.4931 - accuracy: 0.8172\n",
      "Epoch 66/120\n",
      "42/42 [==============================] - 91s 2s/step - loss: 0.4425 - accuracy: 0.8369\n",
      "Epoch 67/120\n",
      "42/42 [==============================] - 93s 2s/step - loss: 0.3746 - accuracy: 0.8618\n",
      "Epoch 68/120\n",
      "42/42 [==============================] - 97s 2s/step - loss: 0.4269 - accuracy: 0.8323\n",
      "Epoch 69/120\n",
      "42/42 [==============================] - 97s 2s/step - loss: 0.4116 - accuracy: 0.8301\n",
      "Epoch 70/120\n",
      "42/42 [==============================] - 95s 2s/step - loss: 0.4038 - accuracy: 0.8467\n",
      "Epoch 71/120\n",
      "42/42 [==============================] - 96s 2s/step - loss: 0.4537 - accuracy: 0.8255\n",
      "Epoch 72/120\n",
      "42/42 [==============================] - 98s 2s/step - loss: 0.3727 - accuracy: 0.8671\n",
      "Epoch 73/120\n",
      "42/42 [==============================] - 99s 2s/step - loss: 0.4236 - accuracy: 0.8391\n",
      "Epoch 74/120\n",
      "42/42 [==============================] - 97s 2s/step - loss: 0.4100 - accuracy: 0.8308\n",
      "Epoch 75/120\n",
      "42/42 [==============================] - 96s 2s/step - loss: 0.3778 - accuracy: 0.8489\n",
      "Epoch 76/120\n",
      "42/42 [==============================] - 95s 2s/step - loss: 0.3557 - accuracy: 0.8708\n",
      "Epoch 77/120\n",
      "42/42 [==============================] - 100s 2s/step - loss: 0.3706 - accuracy: 0.8648\n",
      "Epoch 78/120\n",
      "42/42 [==============================] - 95s 2s/step - loss: 0.3618 - accuracy: 0.8618\n",
      "Epoch 79/120\n",
      "42/42 [==============================] - 95s 2s/step - loss: 0.3222 - accuracy: 0.8799\n",
      "Epoch 80/120\n",
      "42/42 [==============================] - 95s 2s/step - loss: 0.3744 - accuracy: 0.8535\n",
      "Epoch 81/120\n",
      "42/42 [==============================] - 103s 2s/step - loss: 0.3787 - accuracy: 0.8565\n",
      "Epoch 82/120\n",
      "42/42 [==============================] - 91s 2s/step - loss: 0.4010 - accuracy: 0.8625\n",
      "Epoch 83/120\n",
      "42/42 [==============================] - 90s 2s/step - loss: 0.3955 - accuracy: 0.8452\n",
      "Epoch 84/120\n",
      "42/42 [==============================] - 92s 2s/step - loss: 0.3866 - accuracy: 0.8482\n",
      "Epoch 85/120\n",
      "42/42 [==============================] - 91s 2s/step - loss: 0.3309 - accuracy: 0.8731\n",
      "Epoch 86/120\n",
      "42/42 [==============================] - 90s 2s/step - loss: 0.4126 - accuracy: 0.8437\n",
      "Epoch 87/120\n",
      "42/42 [==============================] - 90s 2s/step - loss: 0.3059 - accuracy: 0.8814\n",
      "Epoch 88/120\n",
      "42/42 [==============================] - 89s 2s/step - loss: 0.3234 - accuracy: 0.8716\n",
      "Epoch 89/120\n",
      "42/42 [==============================] - 88s 2s/step - loss: 0.3268 - accuracy: 0.8754\n",
      "Epoch 90/120\n",
      "42/42 [==============================] - 88s 2s/step - loss: 0.3648 - accuracy: 0.8693\n",
      "Epoch 91/120\n",
      "42/42 [==============================] - 88s 2s/step - loss: 0.2925 - accuracy: 0.8927\n",
      "Epoch 92/120\n",
      "42/42 [==============================] - 89s 2s/step - loss: 0.3618 - accuracy: 0.8595\n",
      "Epoch 93/120\n",
      "42/42 [==============================] - 89s 2s/step - loss: 0.3336 - accuracy: 0.8686\n",
      "Epoch 94/120\n",
      "42/42 [==============================] - 88s 2s/step - loss: 0.3268 - accuracy: 0.8784\n",
      "Epoch 95/120\n",
      "42/42 [==============================] - 88s 2s/step - loss: 0.2840 - accuracy: 0.9003\n",
      "Epoch 96/120\n",
      "42/42 [==============================] - 89s 2s/step - loss: 0.3175 - accuracy: 0.8761\n",
      "Epoch 97/120\n",
      "42/42 [==============================] - 88s 2s/step - loss: 0.2801 - accuracy: 0.8943\n",
      "Epoch 98/120\n",
      "42/42 [==============================] - 88s 2s/step - loss: 0.2875 - accuracy: 0.8829\n",
      "Epoch 99/120\n",
      "42/42 [==============================] - 88s 2s/step - loss: 0.3317 - accuracy: 0.8807\n",
      "Epoch 100/120\n",
      "42/42 [==============================] - 88s 2s/step - loss: 0.2612 - accuracy: 0.8958\n",
      "Epoch 101/120\n",
      "42/42 [==============================] - 88s 2s/step - loss: 0.3157 - accuracy: 0.8844\n",
      "Epoch 102/120\n",
      "42/42 [==============================] - 3751s 91s/step - loss: 0.2805 - accuracy: 0.8852\n",
      "Epoch 103/120\n",
      "42/42 [==============================] - 88s 2s/step - loss: 0.2867 - accuracy: 0.8943\n",
      "Epoch 104/120\n",
      "42/42 [==============================] - 91s 2s/step - loss: 0.2959 - accuracy: 0.8897\n",
      "Epoch 105/120\n",
      "42/42 [==============================] - 91s 2s/step - loss: 0.3037 - accuracy: 0.8950\n",
      "Epoch 106/120\n",
      "42/42 [==============================] - 89s 2s/step - loss: 0.3180 - accuracy: 0.8867\n",
      "Epoch 107/120\n",
      "42/42 [==============================] - 89s 2s/step - loss: 0.2667 - accuracy: 0.8905\n",
      "Epoch 108/120\n",
      "42/42 [==============================] - 94s 2s/step - loss: 0.2743 - accuracy: 0.8980\n",
      "Epoch 109/120\n",
      "42/42 [==============================] - 97s 2s/step - loss: 0.2888 - accuracy: 0.8890\n",
      "Epoch 110/120\n",
      "42/42 [==============================] - 97s 2s/step - loss: 0.2901 - accuracy: 0.8867\n",
      "Epoch 111/120\n",
      "42/42 [==============================] - 94s 2s/step - loss: 0.2736 - accuracy: 0.9003\n",
      "Epoch 112/120\n",
      "42/42 [==============================] - 97s 2s/step - loss: 0.3103 - accuracy: 0.8890\n",
      "Epoch 113/120\n",
      "42/42 [==============================] - 94s 2s/step - loss: 0.2638 - accuracy: 0.9026\n",
      "Epoch 114/120\n",
      "42/42 [==============================] - 101s 2s/step - loss: 0.2670 - accuracy: 0.9056\n",
      "Epoch 115/120\n",
      "42/42 [==============================] - 101s 2s/step - loss: 0.2947 - accuracy: 0.8950\n",
      "Epoch 116/120\n",
      "42/42 [==============================] - 96s 2s/step - loss: 0.2761 - accuracy: 0.8973\n",
      "Epoch 117/120\n",
      "42/42 [==============================] - 97s 2s/step - loss: 0.2666 - accuracy: 0.8995\n",
      "Epoch 118/120\n",
      "42/42 [==============================] - 96s 2s/step - loss: 0.2495 - accuracy: 0.9086\n",
      "Epoch 119/120\n",
      "42/42 [==============================] - 90s 2s/step - loss: 0.2211 - accuracy: 0.9184\n",
      "Epoch 120/120\n",
      "42/42 [==============================] - 90s 2s/step - loss: 0.2568 - accuracy: 0.9094\n"
     ]
    },
    {
     "data": {
      "text/plain": [
       "<keras.callbacks.History at 0x18c66f30790>"
      ]
     },
     "execution_count": 24,
     "metadata": {},
     "output_type": "execute_result"
    }
   ],
   "source": [
    "model.fit(X_train,y_train,epochs=120)"
   ]
  },
  {
   "cell_type": "code",
   "execution_count": 25,
   "id": "3d25e141-f2f7-44c2-8fa1-93e4db2e4173",
   "metadata": {},
   "outputs": [
    {
     "name": "stdout",
     "output_type": "stream",
     "text": [
      "11/11 [==============================] - 6s 504ms/step - loss: 0.3149 - accuracy: 0.9094\n"
     ]
    },
    {
     "data": {
      "text/plain": [
       "[0.31485632061958313, 0.9093655347824097]"
      ]
     },
     "execution_count": 25,
     "metadata": {},
     "output_type": "execute_result"
    }
   ],
   "source": [
    "model.evaluate(X_test,y_test)"
   ]
  },
  {
   "cell_type": "code",
   "execution_count": 26,
   "id": "dd35ab92-8203-448a-8931-8f026bb0a0ab",
   "metadata": {},
   "outputs": [
    {
     "name": "stdout",
     "output_type": "stream",
     "text": [
      "11/11 [==============================] - 5s 464ms/step\n"
     ]
    },
    {
     "data": {
      "text/plain": [
       "array([[6.33851278e-06, 2.75450475e-06, 4.63063989e-05, 3.60244776e-05,\n",
       "        2.15963678e-06, 9.99906421e-01],\n",
       "       [2.30655132e-05, 2.13519466e-04, 1.17747900e-09, 1.93066165e-01,\n",
       "        8.06697190e-01, 4.15474837e-08],\n",
       "       [7.05393433e-08, 1.14407804e-07, 1.65513239e-03, 3.13428536e-05,\n",
       "        1.85512021e-04, 9.98127878e-01],\n",
       "       [1.57986637e-02, 2.13240692e-03, 5.03117192e-08, 9.82044458e-01,\n",
       "        2.41003454e-05, 3.93813764e-07],\n",
       "       [1.19044986e-02, 1.83170114e-03, 1.76607471e-04, 4.15292799e-01,\n",
       "        5.65699637e-01, 5.09478897e-03]], dtype=float32)"
      ]
     },
     "execution_count": 26,
     "metadata": {},
     "output_type": "execute_result"
    }
   ],
   "source": [
    "y_pred=model.predict(X_test)\n",
    "y_pred[:5]"
   ]
  },
  {
   "cell_type": "code",
   "execution_count": 31,
   "id": "2dc1d26e-f444-4cf6-8eaf-39a3ff9cff16",
   "metadata": {},
   "outputs": [],
   "source": [
    "y_predict=[]\n",
    "for i in y_pred:\n",
    "    b=np.argmax(i)\n",
    "    y_predict.append(b)"
   ]
  },
  {
   "cell_type": "code",
   "execution_count": 32,
   "id": "6e562d2e-8828-4b33-882d-c3819df766f8",
   "metadata": {},
   "outputs": [
    {
     "data": {
      "text/plain": [
       "[5, 4, 5, 3, 4]"
      ]
     },
     "execution_count": 32,
     "metadata": {},
     "output_type": "execute_result"
    }
   ],
   "source": [
    "y_predict[:5]"
   ]
  },
  {
   "cell_type": "code",
   "execution_count": 33,
   "id": "9fdda54f-cde3-4256-a9ac-0558305ba8b3",
   "metadata": {},
   "outputs": [
    {
     "data": {
      "text/plain": [
       "array([5, 4, 5, 3, 3])"
      ]
     },
     "execution_count": 33,
     "metadata": {},
     "output_type": "execute_result"
    }
   ],
   "source": [
    "y_test[:5]"
   ]
  },
  {
   "cell_type": "code",
   "execution_count": 36,
   "id": "b1dcd377-1cbf-4fee-bec1-c4d8375afe55",
   "metadata": {},
   "outputs": [
    {
     "name": "stdout",
     "output_type": "stream",
     "text": [
      "              precision    recall  f1-score   support\n",
      "\n",
      "           0       0.88      0.88      0.88        17\n",
      "           1       1.00      0.87      0.93        23\n",
      "           2       0.96      0.62      0.76        40\n",
      "           3       0.89      0.96      0.93        53\n",
      "           4       0.93      0.92      0.93        75\n",
      "           5       0.88      0.98      0.93       123\n",
      "\n",
      "    accuracy                           0.91       331\n",
      "   macro avg       0.93      0.87      0.89       331\n",
      "weighted avg       0.91      0.91      0.91       331\n",
      "\n"
     ]
    }
   ],
   "source": [
    "print(classification_report(y_predict,y_test))"
   ]
  },
  {
   "cell_type": "code",
   "execution_count": 37,
   "id": "bb37d25f-5efc-444d-84f2-045f0f24ca8a",
   "metadata": {},
   "outputs": [
    {
     "data": {
      "text/plain": [
       "array([[ 15,   0,   0,   2,   0,   0],\n",
       "       [  0,  20,   0,   0,   3,   0],\n",
       "       [  1,   0,  25,   0,   0,  14],\n",
       "       [  1,   0,   0,  51,   1,   0],\n",
       "       [  0,   0,   0,   4,  69,   2],\n",
       "       [  0,   0,   1,   0,   1, 121]], dtype=int64)"
      ]
     },
     "execution_count": 37,
     "metadata": {},
     "output_type": "execute_result"
    }
   ],
   "source": [
    "confusion_matrix(y_predict,y_test)"
   ]
  },
  {
   "cell_type": "code",
   "execution_count": 43,
   "id": "d239ab84-3def-4627-b2b2-939fda17caf8",
   "metadata": {},
   "outputs": [
    {
     "data": {
      "image/png": "[encoded data removed]",
      "text/plain": [
       "<Figure size 648x504 with 2 Axes>"
      ]
     },
     "metadata": {
      "needs_background": "light"
     },
     "output_type": "display_data"
    }
   ],
   "source": [
    "cm=confusion_matrix(y_predict,y_test)\n",
    "plt.figure(figsize=(9,7))\n",
    "sns.heatmap(cm,annot=True,annot_kws={'size':17},fmt='d',cmap='Blues')\n",
    "plt.title('Confusion Matrix')\n",
    "plt.xlabel('Predicted')\n",
    "plt.ylabel('Truth')\n",
    "plt.show()"
   ]
  }
 ],
 "metadata": {
  "kernelspec": {
   "display_name": "Python 3 (ipykernel)",
   "language": "python",
   "name": "python3"
  },
  "language_info": {
   "codemirror_mode": {
    "name": "ipython",
    "version": 3
   },
   "file_extension": ".py",
   "mimetype": "text/x-python",
   "name": "python",
   "nbconvert_exporter": "python",
   "pygments_lexer": "ipython3",
   "version": "3.10.5"
  }
 },
 "nbformat": 4,
 "nbformat_minor": 5
}
